{
 "cells": [
  {
   "cell_type": "markdown",
   "id": "c2cfd4a8-3dda-4949-9e75-eafe834910a6",
   "metadata": {},
   "source": [
    "# How to use group by in data frame"
   ]
  },
  {
   "cell_type": "code",
   "execution_count": null,
   "id": "fecf9ef3-4298-407c-9163-c98b275aac9d",
   "metadata": {},
   "outputs": [],
   "source": []
  }
 ],
 "metadata": {
  "kernelspec": {
   "display_name": "Python 3 (ipykernel)",
   "language": "python",
   "name": "python3"
  },
  "language_info": {
   "codemirror_mode": {
    "name": "ipython",
    "version": 3
   },
   "file_extension": ".py",
   "mimetype": "text/x-python",
   "name": "python",
   "nbconvert_exporter": "python",
   "pygments_lexer": "ipython3",
   "version": "3.9.12"
  }
 },
 "nbformat": 4,
 "nbformat_minor": 5
}
