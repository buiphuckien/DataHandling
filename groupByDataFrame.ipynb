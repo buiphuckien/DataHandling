{
 "cells": [
  {
   "cell_type": "markdown",
   "id": "c2cfd4a8-3dda-4949-9e75-eafe834910a6",
   "metadata": {},
   "source": [
    "# How to use group by in data frame"
   ]
  },
  {
   "cell_type": "markdown",
   "id": "c01ae0be-dce4-4716-b012-894a3c5425d5",
   "metadata": {},
   "source": [
    "## Suppose we have a data frame as below"
   ]
  },
  {
   "cell_type": "code",
   "execution_count": 19,
   "id": "fecf9ef3-4298-407c-9163-c98b275aac9d",
   "metadata": {},
   "outputs": [
    {
     "data": {
      "text/html": [
       "<div>\n",
       "<style scoped>\n",
       "    .dataframe tbody tr th:only-of-type {\n",
       "        vertical-align: middle;\n",
       "    }\n",
       "\n",
       "    .dataframe tbody tr th {\n",
       "        vertical-align: top;\n",
       "    }\n",
       "\n",
       "    .dataframe thead th {\n",
       "        text-align: right;\n",
       "    }\n",
       "</style>\n",
       "<table border=\"1\" class=\"dataframe\">\n",
       "  <thead>\n",
       "    <tr style=\"text-align: right;\">\n",
       "      <th></th>\n",
       "      <th>Name</th>\n",
       "      <th>Math</th>\n",
       "      <th>Physics</th>\n",
       "      <th>Chemistry</th>\n",
       "      <th>Literature</th>\n",
       "      <th>Gender</th>\n",
       "      <th>Country</th>\n",
       "    </tr>\n",
       "  </thead>\n",
       "  <tbody>\n",
       "    <tr>\n",
       "      <th>0</th>\n",
       "      <td>John</td>\n",
       "      <td>7</td>\n",
       "      <td>3</td>\n",
       "      <td>6</td>\n",
       "      <td>6</td>\n",
       "      <td>M</td>\n",
       "      <td>B</td>\n",
       "    </tr>\n",
       "    <tr>\n",
       "      <th>1</th>\n",
       "      <td>Tri</td>\n",
       "      <td>4</td>\n",
       "      <td>7</td>\n",
       "      <td>10</td>\n",
       "      <td>7</td>\n",
       "      <td>M</td>\n",
       "      <td>C</td>\n",
       "    </tr>\n",
       "    <tr>\n",
       "      <th>2</th>\n",
       "      <td>Mary</td>\n",
       "      <td>9</td>\n",
       "      <td>8</td>\n",
       "      <td>3</td>\n",
       "      <td>1</td>\n",
       "      <td>F</td>\n",
       "      <td>B</td>\n",
       "    </tr>\n",
       "    <tr>\n",
       "      <th>3</th>\n",
       "      <td>Tom</td>\n",
       "      <td>6</td>\n",
       "      <td>5</td>\n",
       "      <td>6</td>\n",
       "      <td>4</td>\n",
       "      <td>M</td>\n",
       "      <td>A</td>\n",
       "    </tr>\n",
       "    <tr>\n",
       "      <th>4</th>\n",
       "      <td>Anne</td>\n",
       "      <td>3</td>\n",
       "      <td>9</td>\n",
       "      <td>1</td>\n",
       "      <td>2</td>\n",
       "      <td>M</td>\n",
       "      <td>A</td>\n",
       "    </tr>\n",
       "    <tr>\n",
       "      <th>5</th>\n",
       "      <td>Han</td>\n",
       "      <td>6</td>\n",
       "      <td>2</td>\n",
       "      <td>1</td>\n",
       "      <td>3</td>\n",
       "      <td>F</td>\n",
       "      <td>C</td>\n",
       "    </tr>\n",
       "    <tr>\n",
       "      <th>6</th>\n",
       "      <td>Jerry</td>\n",
       "      <td>9</td>\n",
       "      <td>3</td>\n",
       "      <td>0</td>\n",
       "      <td>0</td>\n",
       "      <td>F</td>\n",
       "      <td>B</td>\n",
       "    </tr>\n",
       "    <tr>\n",
       "      <th>7</th>\n",
       "      <td>Mark</td>\n",
       "      <td>9</td>\n",
       "      <td>0</td>\n",
       "      <td>0</td>\n",
       "      <td>7</td>\n",
       "      <td>F</td>\n",
       "      <td>A</td>\n",
       "    </tr>\n",
       "    <tr>\n",
       "      <th>8</th>\n",
       "      <td>Jesses</td>\n",
       "      <td>0</td>\n",
       "      <td>1</td>\n",
       "      <td>7</td>\n",
       "      <td>9</td>\n",
       "      <td>F</td>\n",
       "      <td>B</td>\n",
       "    </tr>\n",
       "    <tr>\n",
       "      <th>9</th>\n",
       "      <td>Vandana</td>\n",
       "      <td>8</td>\n",
       "      <td>4</td>\n",
       "      <td>1</td>\n",
       "      <td>1</td>\n",
       "      <td>F</td>\n",
       "      <td>C</td>\n",
       "    </tr>\n",
       "  </tbody>\n",
       "</table>\n",
       "</div>"
      ],
      "text/plain": [
       "      Name  Math  Physics  Chemistry  Literature Gender Country\n",
       "0     John     7        3          6           6      M       B\n",
       "1      Tri     4        7         10           7      M       C\n",
       "2     Mary     9        8          3           1      F       B\n",
       "3      Tom     6        5          6           4      M       A\n",
       "4     Anne     3        9          1           2      M       A\n",
       "5      Han     6        2          1           3      F       C\n",
       "6    Jerry     9        3          0           0      F       B\n",
       "7     Mark     9        0          0           7      F       A\n",
       "8   Jesses     0        1          7           9      F       B\n",
       "9  Vandana     8        4          1           1      F       C"
      ]
     },
     "execution_count": 19,
     "metadata": {},
     "output_type": "execute_result"
    }
   ],
   "source": [
    "# Import library\n",
    "import pandas as pd\n",
    "import random\n",
    "\n",
    "# Suppress warning in python\n",
    "import warnings\n",
    "warnings.filterwarnings(\"ignore\")\n",
    "\n",
    "# Create data frame\n",
    "df = pd.DataFrame()\n",
    "\n",
    "# Create column name \n",
    "df['Name'] = ['John', 'Tri', 'Mary', 'Tom', 'Anne', 'Han', 'Jerry', 'Mark', 'Jesses', 'Vandana']\n",
    "df['Math'] = [random.randint(0, 10) for i in range(10)]\n",
    "df['Physics'] = [random.randint(0, 10) for i in range(10)]\n",
    "df['Chemistry'] = [random.randint(0, 10) for i in range(10)]\n",
    "df['Literature'] = [random.randint(0, 10) for i in range(10)]\n",
    "df['Gender'] = [random.choice(['M', 'F']) for i in range(10)]\n",
    "df['Country'] = [random.choice(['A', 'B', 'C']) for i in range(10)]\n",
    "df"
   ]
  },
  {
   "cell_type": "markdown",
   "id": "a8ded6e7-1d61-4d86-9d5d-b661ef596f05",
   "metadata": {},
   "source": [
    "## Here want to find out the maximum in math score of group F and M"
   ]
  },
  {
   "cell_type": "code",
   "execution_count": 20,
   "id": "ee2a747a-f500-4b87-b6c5-48f44cf76eb8",
   "metadata": {},
   "outputs": [
    {
     "data": {
      "text/plain": [
       "Gender\n",
       "F    9\n",
       "M    7\n",
       "Name: Math, dtype: int64"
      ]
     },
     "execution_count": 20,
     "metadata": {},
     "output_type": "execute_result"
    }
   ],
   "source": [
    "#Grouping\n",
    "#Groupby needs to be paired with operations\n",
    "df.groupby('Gender')['Math'].max()"
   ]
  },
  {
   "cell_type": "markdown",
   "id": "d1af4930-3f07-4447-83e6-2ed79e1b43ce",
   "metadata": {},
   "source": [
    "## The average in math score of group F and M for each country"
   ]
  },
  {
   "cell_type": "code",
   "execution_count": 21,
   "id": "b44de0da-9483-427d-9065-7e9224843e58",
   "metadata": {},
   "outputs": [
    {
     "data": {
      "text/plain": [
       "Country  Gender\n",
       "A        F         9.0\n",
       "         M         4.5\n",
       "B        F         6.0\n",
       "         M         7.0\n",
       "C        F         7.0\n",
       "         M         4.0\n",
       "Name: Math, dtype: float64"
      ]
     },
     "execution_count": 21,
     "metadata": {},
     "output_type": "execute_result"
    }
   ],
   "source": [
    "df.groupby(['Country', 'Gender'])['Math'].mean()"
   ]
  },
  {
   "cell_type": "code",
   "execution_count": null,
   "id": "14afcc0e-900a-4f37-82b0-c04a6c1da4d1",
   "metadata": {},
   "outputs": [],
   "source": []
  }
 ],
 "metadata": {
  "kernelspec": {
   "display_name": "Python 3 (ipykernel)",
   "language": "python",
   "name": "python3"
  },
  "language_info": {
   "codemirror_mode": {
    "name": "ipython",
    "version": 3
   },
   "file_extension": ".py",
   "mimetype": "text/x-python",
   "name": "python",
   "nbconvert_exporter": "python",
   "pygments_lexer": "ipython3",
   "version": "3.9.12"
  }
 },
 "nbformat": 4,
 "nbformat_minor": 5
}
