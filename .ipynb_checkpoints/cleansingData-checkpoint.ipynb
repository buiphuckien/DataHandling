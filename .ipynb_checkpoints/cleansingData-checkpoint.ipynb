{
 "cells": [
  {
   "cell_type": "code",
   "execution_count": 1,
   "id": "035b2142-7bcf-4889-a773-866404e0d14f",
   "metadata": {},
   "outputs": [],
   "source": [
    "import pandas as pd\n",
    "data  = pd.read_csv(\"hfda_ch13_raw_data.csv\", sep=\"#\")"
   ]
  },
  {
   "cell_type": "code",
   "execution_count": 2,
   "id": "7731911b-5dc9-46d2-9ec5-e6bc5f2735ef",
   "metadata": {},
   "outputs": [
    {
     "data": {
      "text/html": [
       "<div>\n",
       "<style scoped>\n",
       "    .dataframe tbody tr th:only-of-type {\n",
       "        vertical-align: middle;\n",
       "    }\n",
       "\n",
       "    .dataframe tbody tr th {\n",
       "        vertical-align: top;\n",
       "    }\n",
       "\n",
       "    .dataframe thead th {\n",
       "        text-align: right;\n",
       "    }\n",
       "</style>\n",
       "<table border=\"1\" class=\"dataframe\">\n",
       "  <thead>\n",
       "    <tr style=\"text-align: right;\">\n",
       "      <th></th>\n",
       "      <th>PersonID</th>\n",
       "      <th>FirstName</th>\n",
       "      <th>LastName</th>\n",
       "      <th>ZIP</th>\n",
       "      <th>Phone</th>\n",
       "      <th>CallID</th>\n",
       "      <th>Time</th>\n",
       "    </tr>\n",
       "  </thead>\n",
       "  <tbody>\n",
       "    <tr>\n",
       "      <th>0</th>\n",
       "      <td>127</td>\n",
       "      <td>^Alexia</td>\n",
       "      <td>Rasmuss(ID 127)en</td>\n",
       "      <td>11422</td>\n",
       "      <td>718-534-2403</td>\n",
       "      <td>4252</td>\n",
       "      <td>01/01/08 12:32</td>\n",
       "    </tr>\n",
       "    <tr>\n",
       "      <th>1</th>\n",
       "      <td>98</td>\n",
       "      <td>^Brenden</td>\n",
       "      <td>Rasmuss(ID 98)en</td>\n",
       "      <td>10015</td>\n",
       "      <td>646-812-7298</td>\n",
       "      <td>4253</td>\n",
       "      <td>01/02/08 13:17</td>\n",
       "    </tr>\n",
       "    <tr>\n",
       "      <th>2</th>\n",
       "      <td>94</td>\n",
       "      <td>^Beau</td>\n",
       "      <td>Ware(ID 94)</td>\n",
       "      <td>10013</td>\n",
       "      <td>646-391-9926</td>\n",
       "      <td>4254</td>\n",
       "      <td>01/02/08 14:54</td>\n",
       "    </tr>\n",
       "    <tr>\n",
       "      <th>3</th>\n",
       "      <td>127</td>\n",
       "      <td>^Alexia</td>\n",
       "      <td>Ra(ID 127)smussen</td>\n",
       "      <td>11422</td>\n",
       "      <td>718-534-2403</td>\n",
       "      <td>4255</td>\n",
       "      <td>01/03/08 15:32</td>\n",
       "    </tr>\n",
       "    <tr>\n",
       "      <th>4</th>\n",
       "      <td>156</td>\n",
       "      <td>^Jacoby</td>\n",
       "      <td>Co(ID 156)ok</td>\n",
       "      <td>10045</td>\n",
       "      <td>917-808-6186</td>\n",
       "      <td>4256</td>\n",
       "      <td>01/03/08 15:52</td>\n",
       "    </tr>\n",
       "  </tbody>\n",
       "</table>\n",
       "</div>"
      ],
      "text/plain": [
       "   PersonID FirstName           LastName    ZIP         Phone  CallID  \\\n",
       "0       127   ^Alexia  Rasmuss(ID 127)en  11422  718-534-2403    4252   \n",
       "1        98  ^Brenden   Rasmuss(ID 98)en  10015  646-812-7298    4253   \n",
       "2        94     ^Beau        Ware(ID 94)  10013  646-391-9926    4254   \n",
       "3       127   ^Alexia  Ra(ID 127)smussen  11422  718-534-2403    4255   \n",
       "4       156   ^Jacoby       Co(ID 156)ok  10045  917-808-6186    4256   \n",
       "\n",
       "             Time  \n",
       "0  01/01/08 12:32  \n",
       "1  01/02/08 13:17  \n",
       "2  01/02/08 14:54  \n",
       "3  01/03/08 15:32  \n",
       "4  01/03/08 15:52  "
      ]
     },
     "execution_count": 2,
     "metadata": {},
     "output_type": "execute_result"
    }
   ],
   "source": [
    "data.head(5)"
   ]
  },
  {
   "cell_type": "code",
   "execution_count": 7,
   "id": "8ee3134b-c4d6-4977-9e51-1918a6848158",
   "metadata": {},
   "outputs": [
    {
     "ename": "KeyError",
     "evalue": "'Firstname'",
     "output_type": "error",
     "traceback": [
      "\u001b[0;31m---------------------------------------------------------------------------\u001b[0m",
      "\u001b[0;31mKeyError\u001b[0m                                  Traceback (most recent call last)",
      "File \u001b[0;32m~/anaconda3/lib/python3.9/site-packages/pandas/core/indexes/base.py:3621\u001b[0m, in \u001b[0;36mIndex.get_loc\u001b[0;34m(self, key, method, tolerance)\u001b[0m\n\u001b[1;32m   3620\u001b[0m \u001b[38;5;28;01mtry\u001b[39;00m:\n\u001b[0;32m-> 3621\u001b[0m     \u001b[38;5;28;01mreturn\u001b[39;00m \u001b[38;5;28;43mself\u001b[39;49m\u001b[38;5;241;43m.\u001b[39;49m\u001b[43m_engine\u001b[49m\u001b[38;5;241;43m.\u001b[39;49m\u001b[43mget_loc\u001b[49m\u001b[43m(\u001b[49m\u001b[43mcasted_key\u001b[49m\u001b[43m)\u001b[49m\n\u001b[1;32m   3622\u001b[0m \u001b[38;5;28;01mexcept\u001b[39;00m \u001b[38;5;167;01mKeyError\u001b[39;00m \u001b[38;5;28;01mas\u001b[39;00m err:\n",
      "File \u001b[0;32m~/anaconda3/lib/python3.9/site-packages/pandas/_libs/index.pyx:136\u001b[0m, in \u001b[0;36mpandas._libs.index.IndexEngine.get_loc\u001b[0;34m()\u001b[0m\n",
      "File \u001b[0;32m~/anaconda3/lib/python3.9/site-packages/pandas/_libs/index.pyx:163\u001b[0m, in \u001b[0;36mpandas._libs.index.IndexEngine.get_loc\u001b[0;34m()\u001b[0m\n",
      "File \u001b[0;32mpandas/_libs/hashtable_class_helper.pxi:5198\u001b[0m, in \u001b[0;36mpandas._libs.hashtable.PyObjectHashTable.get_item\u001b[0;34m()\u001b[0m\n",
      "File \u001b[0;32mpandas/_libs/hashtable_class_helper.pxi:5206\u001b[0m, in \u001b[0;36mpandas._libs.hashtable.PyObjectHashTable.get_item\u001b[0;34m()\u001b[0m\n",
      "\u001b[0;31mKeyError\u001b[0m: 'Firstname'",
      "\nThe above exception was the direct cause of the following exception:\n",
      "\u001b[0;31mKeyError\u001b[0m                                  Traceback (most recent call last)",
      "Input \u001b[0;32mIn [7]\u001b[0m, in \u001b[0;36m<cell line: 2>\u001b[0;34m()\u001b[0m\n\u001b[1;32m      1\u001b[0m fn \u001b[38;5;241m=\u001b[39m data[\u001b[38;5;124m'\u001b[39m\u001b[38;5;124mFirstName\u001b[39m\u001b[38;5;124m'\u001b[39m]\u001b[38;5;241m.\u001b[39mvalues\n\u001b[1;32m      2\u001b[0m \u001b[38;5;28;01mfor\u001b[39;00m r \u001b[38;5;129;01min\u001b[39;00m \u001b[38;5;28mrange\u001b[39m(\u001b[38;5;28mlen\u001b[39m(fn)):\n\u001b[0;32m----> 3\u001b[0m     \u001b[43mdata\u001b[49m\u001b[43m[\u001b[49m\u001b[38;5;124;43m'\u001b[39;49m\u001b[38;5;124;43mFirstname\u001b[39;49m\u001b[38;5;124;43m'\u001b[39;49m\u001b[43m]\u001b[49m\u001b[38;5;241m.\u001b[39mvalues[r] \u001b[38;5;241m=\u001b[39m fn[r][\u001b[38;5;241m1\u001b[39m:]\n",
      "File \u001b[0;32m~/anaconda3/lib/python3.9/site-packages/pandas/core/frame.py:3505\u001b[0m, in \u001b[0;36mDataFrame.__getitem__\u001b[0;34m(self, key)\u001b[0m\n\u001b[1;32m   3503\u001b[0m \u001b[38;5;28;01mif\u001b[39;00m \u001b[38;5;28mself\u001b[39m\u001b[38;5;241m.\u001b[39mcolumns\u001b[38;5;241m.\u001b[39mnlevels \u001b[38;5;241m>\u001b[39m \u001b[38;5;241m1\u001b[39m:\n\u001b[1;32m   3504\u001b[0m     \u001b[38;5;28;01mreturn\u001b[39;00m \u001b[38;5;28mself\u001b[39m\u001b[38;5;241m.\u001b[39m_getitem_multilevel(key)\n\u001b[0;32m-> 3505\u001b[0m indexer \u001b[38;5;241m=\u001b[39m \u001b[38;5;28;43mself\u001b[39;49m\u001b[38;5;241;43m.\u001b[39;49m\u001b[43mcolumns\u001b[49m\u001b[38;5;241;43m.\u001b[39;49m\u001b[43mget_loc\u001b[49m\u001b[43m(\u001b[49m\u001b[43mkey\u001b[49m\u001b[43m)\u001b[49m\n\u001b[1;32m   3506\u001b[0m \u001b[38;5;28;01mif\u001b[39;00m is_integer(indexer):\n\u001b[1;32m   3507\u001b[0m     indexer \u001b[38;5;241m=\u001b[39m [indexer]\n",
      "File \u001b[0;32m~/anaconda3/lib/python3.9/site-packages/pandas/core/indexes/base.py:3623\u001b[0m, in \u001b[0;36mIndex.get_loc\u001b[0;34m(self, key, method, tolerance)\u001b[0m\n\u001b[1;32m   3621\u001b[0m     \u001b[38;5;28;01mreturn\u001b[39;00m \u001b[38;5;28mself\u001b[39m\u001b[38;5;241m.\u001b[39m_engine\u001b[38;5;241m.\u001b[39mget_loc(casted_key)\n\u001b[1;32m   3622\u001b[0m \u001b[38;5;28;01mexcept\u001b[39;00m \u001b[38;5;167;01mKeyError\u001b[39;00m \u001b[38;5;28;01mas\u001b[39;00m err:\n\u001b[0;32m-> 3623\u001b[0m     \u001b[38;5;28;01mraise\u001b[39;00m \u001b[38;5;167;01mKeyError\u001b[39;00m(key) \u001b[38;5;28;01mfrom\u001b[39;00m \u001b[38;5;21;01merr\u001b[39;00m\n\u001b[1;32m   3624\u001b[0m \u001b[38;5;28;01mexcept\u001b[39;00m \u001b[38;5;167;01mTypeError\u001b[39;00m:\n\u001b[1;32m   3625\u001b[0m     \u001b[38;5;66;03m# If we have a listlike key, _check_indexing_error will raise\u001b[39;00m\n\u001b[1;32m   3626\u001b[0m     \u001b[38;5;66;03m#  InvalidIndexError. Otherwise we fall through and re-raise\u001b[39;00m\n\u001b[1;32m   3627\u001b[0m     \u001b[38;5;66;03m#  the TypeError.\u001b[39;00m\n\u001b[1;32m   3628\u001b[0m     \u001b[38;5;28mself\u001b[39m\u001b[38;5;241m.\u001b[39m_check_indexing_error(key)\n",
      "\u001b[0;31mKeyError\u001b[0m: 'Firstname'"
     ]
    }
   ],
   "source": [
    "fn = data['FirstName'].values\n",
    "for r in range(len(fn)):\n",
    "    data['Firstname'].values[r] = fn[r][1:]"
   ]
  },
  {
   "cell_type": "code",
   "execution_count": 4,
   "id": "eaa6f5d3-3b10-43bb-9f3a-bfc0124ff471",
   "metadata": {},
   "outputs": [
    {
     "data": {
      "text/html": [
       "<div>\n",
       "<style scoped>\n",
       "    .dataframe tbody tr th:only-of-type {\n",
       "        vertical-align: middle;\n",
       "    }\n",
       "\n",
       "    .dataframe tbody tr th {\n",
       "        vertical-align: top;\n",
       "    }\n",
       "\n",
       "    .dataframe thead th {\n",
       "        text-align: right;\n",
       "    }\n",
       "</style>\n",
       "<table border=\"1\" class=\"dataframe\">\n",
       "  <thead>\n",
       "    <tr style=\"text-align: right;\">\n",
       "      <th></th>\n",
       "      <th>PersonID</th>\n",
       "      <th>FirstName</th>\n",
       "      <th>LastName</th>\n",
       "      <th>ZIP</th>\n",
       "      <th>Phone</th>\n",
       "      <th>CallID</th>\n",
       "      <th>Time</th>\n",
       "    </tr>\n",
       "  </thead>\n",
       "  <tbody>\n",
       "    <tr>\n",
       "      <th>0</th>\n",
       "      <td>127</td>\n",
       "      <td>^Alexia</td>\n",
       "      <td>Rasmuss(ID 127)en</td>\n",
       "      <td>11422</td>\n",
       "      <td>718-534-2403</td>\n",
       "      <td>4252</td>\n",
       "      <td>01/01/08 12:32</td>\n",
       "    </tr>\n",
       "    <tr>\n",
       "      <th>1</th>\n",
       "      <td>98</td>\n",
       "      <td>^Brenden</td>\n",
       "      <td>Rasmuss(ID 98)en</td>\n",
       "      <td>10015</td>\n",
       "      <td>646-812-7298</td>\n",
       "      <td>4253</td>\n",
       "      <td>01/02/08 13:17</td>\n",
       "    </tr>\n",
       "    <tr>\n",
       "      <th>2</th>\n",
       "      <td>94</td>\n",
       "      <td>^Beau</td>\n",
       "      <td>Ware(ID 94)</td>\n",
       "      <td>10013</td>\n",
       "      <td>646-391-9926</td>\n",
       "      <td>4254</td>\n",
       "      <td>01/02/08 14:54</td>\n",
       "    </tr>\n",
       "    <tr>\n",
       "      <th>3</th>\n",
       "      <td>127</td>\n",
       "      <td>^Alexia</td>\n",
       "      <td>Ra(ID 127)smussen</td>\n",
       "      <td>11422</td>\n",
       "      <td>718-534-2403</td>\n",
       "      <td>4255</td>\n",
       "      <td>01/03/08 15:32</td>\n",
       "    </tr>\n",
       "    <tr>\n",
       "      <th>4</th>\n",
       "      <td>156</td>\n",
       "      <td>^Jacoby</td>\n",
       "      <td>Co(ID 156)ok</td>\n",
       "      <td>10045</td>\n",
       "      <td>917-808-6186</td>\n",
       "      <td>4256</td>\n",
       "      <td>01/03/08 15:52</td>\n",
       "    </tr>\n",
       "  </tbody>\n",
       "</table>\n",
       "</div>"
      ],
      "text/plain": [
       "   PersonID FirstName           LastName    ZIP         Phone  CallID  \\\n",
       "0       127   ^Alexia  Rasmuss(ID 127)en  11422  718-534-2403    4252   \n",
       "1        98  ^Brenden   Rasmuss(ID 98)en  10015  646-812-7298    4253   \n",
       "2        94     ^Beau        Ware(ID 94)  10013  646-391-9926    4254   \n",
       "3       127   ^Alexia  Ra(ID 127)smussen  11422  718-534-2403    4255   \n",
       "4       156   ^Jacoby       Co(ID 156)ok  10045  917-808-6186    4256   \n",
       "\n",
       "             Time  \n",
       "0  01/01/08 12:32  \n",
       "1  01/02/08 13:17  \n",
       "2  01/02/08 14:54  \n",
       "3  01/03/08 15:32  \n",
       "4  01/03/08 15:52  "
      ]
     },
     "execution_count": 4,
     "metadata": {},
     "output_type": "execute_result"
    }
   ],
   "source": [
    "data.head(5)"
   ]
  },
  {
   "cell_type": "code",
   "execution_count": 5,
   "id": "c607511a-afa5-4813-b900-48443f47becd",
   "metadata": {},
   "outputs": [
    {
     "name": "stdout",
     "output_type": "stream",
     "text": [
      "PersonID\n",
      "FirstName\n",
      "LastName\n",
      "ZIP\n",
      "Phone\n",
      "CallID\n",
      "Time\n"
     ]
    }
   ],
   "source": [
    "for r in data:\n",
    "    print(r)"
   ]
  },
  {
   "cell_type": "code",
   "execution_count": null,
   "id": "77a7653d-2332-4f67-bf97-c94c02bd6134",
   "metadata": {},
   "outputs": [],
   "source": []
  }
 ],
 "metadata": {
  "kernelspec": {
   "display_name": "Python 3 (ipykernel)",
   "language": "python",
   "name": "python3"
  },
  "language_info": {
   "codemirror_mode": {
    "name": "ipython",
    "version": 3
   },
   "file_extension": ".py",
   "mimetype": "text/x-python",
   "name": "python",
   "nbconvert_exporter": "python",
   "pygments_lexer": "ipython3",
   "version": "3.9.12"
  }
 },
 "nbformat": 4,
 "nbformat_minor": 5
}
